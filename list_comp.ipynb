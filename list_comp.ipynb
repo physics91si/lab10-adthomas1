{
 "cells": [
  {
   "cell_type": "code",
   "execution_count": 1,
   "metadata": {},
   "outputs": [],
   "source": [
    "import string"
   ]
  },
  {
   "cell_type": "markdown",
   "metadata": {},
   "source": [
    "Returns a list of the first 10 letters of the alphabet."
   ]
  },
  {
   "cell_type": "code",
   "execution_count": 2,
   "metadata": {},
   "outputs": [
    {
     "name": "stdout",
     "output_type": "stream",
     "text": [
      "['a', 'b', 'c', 'd', 'e', 'f', 'g', 'h', 'i', 'j']\n"
     ]
    }
   ],
   "source": [
    "alphabet = string.ascii_lowercase\n",
    "first10 = []\n",
    "for i in range (0,10):\n",
    "    first10.append(alphabet[i])\n",
    "print(first10)\n",
    "    \n",
    "    "
   ]
  },
  {
   "cell_type": "markdown",
   "metadata": {},
   "source": [
    "Returns a list of the first 10 letters of the alphabet except for the sixth letter."
   ]
  },
  {
   "cell_type": "code",
   "execution_count": 3,
   "metadata": {},
   "outputs": [
    {
     "name": "stdout",
     "output_type": "stream",
     "text": [
      "['a', 'b', 'c', 'd', 'e', 'g', 'h', 'i', 'j']\n"
     ]
    }
   ],
   "source": [
    "first10not6 = []\n",
    "for i in range (0,10):\n",
    "    if(i != 5):\n",
    "        first10not6.append(alphabet[i])\n",
    "print(first10not6)"
   ]
  },
  {
   "cell_type": "markdown",
   "metadata": {},
   "source": [
    "Returns a list of the first 10 letters of the alphabet, except the sixth one, each repeated 1, 2, and 3 times"
   ]
  },
  {
   "cell_type": "code",
   "execution_count": 4,
   "metadata": {},
   "outputs": [
    {
     "name": "stdout",
     "output_type": "stream",
     "text": [
      "['a', 'aa', 'aaa', 'b', 'bb', 'bbb', 'c', 'cc', 'ccc', 'd', 'dd', 'ddd', 'e', 'ee', 'eee', 'g', 'gg', 'ggg', 'h', 'hh', 'hhh', 'i', 'ii', 'iii', 'j', 'jj', 'jjj']\n"
     ]
    }
   ],
   "source": [
    "first10not6repeated = []\n",
    "for i in first10not6:\n",
    "    for j in range (1,4):\n",
    "        input = i\n",
    "        if (j>1):\n",
    "            input += i\n",
    "        if (j>2):\n",
    "            input += i\n",
    "        first10not6repeated.append(input)\n",
    "print(first10not6repeated)"
   ]
  },
  {
   "cell_type": "markdown",
   "metadata": {},
   "source": [
    "Returns the list like the above, but in a grid"
   ]
  },
  {
   "cell_type": "code",
   "execution_count": 6,
   "metadata": {},
   "outputs": [
    {
     "name": "stdout",
     "output_type": "stream",
     "text": [
      "[['a', 'aa', 'aaa'], ['b', 'bb', 'bbb'], ['c', 'cc', 'ccc'], ['d', 'dd', 'ddd'], ['e', 'ee', 'eee'], ['g', 'gg', 'ggg'], ['h', 'hh', 'hhh'], ['i', 'ii', 'iii'], ['j', 'jj', 'jjj']]\n"
     ]
    }
   ],
   "source": [
    "first10not6grid = []\n",
    "for i in first10not6:\n",
    "    inner = []\n",
    "    for j in range (1,4):\n",
    "        input = i\n",
    "        if (j>1):\n",
    "            input += i\n",
    "        if (j>2):\n",
    "            input += i\n",
    "        inner.append(input)\n",
    "    first10not6grid.append(inner)\n",
    "print(first10not6grid)\n",
    "    \n",
    "    "
   ]
  },
  {
   "cell_type": "markdown",
   "metadata": {},
   "source": [
    "Returns a list like the above, but if the number matches the index of the character mod 3 instead print a single capitalized version of that character"
   ]
  },
  {
   "cell_type": "code",
   "execution_count": 11,
   "metadata": {},
   "outputs": [
    {
     "name": "stdout",
     "output_type": "stream",
     "text": [
      "[['A', 'a', 'aa'], ['b', 'B', 'bb'], ['c', 'c', 'C'], ['D', 'd', 'dd'], ['e', 'E', 'ee'], ['g', 'g', 'G'], ['H', 'h', 'hh'], ['i', 'I', 'ii'], ['j', 'j', 'J']]\n"
     ]
    }
   ],
   "source": [
    "first10not6gridcapital = []\n",
    "for i in range (0,len(first10not6)):\n",
    "    inner = []\n",
    "    for j in range (0,3):\n",
    "        input = first10not6[i]\n",
    "        if (j == i%3):\n",
    "            input =  input.capitalize()\n",
    "        elif (j>1):\n",
    "            input += input\n",
    "            if (j>2):\n",
    "                input += input\n",
    "        inner.append(input)\n",
    "    first10not6gridcapital.append(inner)\n",
    "print(first10not6gridcapital)"
   ]
  }
 ],
 "metadata": {
  "kernelspec": {
   "display_name": "Python 3",
   "language": "python",
   "name": "python3"
  },
  "language_info": {
   "codemirror_mode": {
    "name": "ipython",
    "version": 3
   },
   "file_extension": ".py",
   "mimetype": "text/x-python",
   "name": "python",
   "nbconvert_exporter": "python",
   "pygments_lexer": "ipython3",
   "version": "3.7.3"
  }
 },
 "nbformat": 4,
 "nbformat_minor": 2
}
